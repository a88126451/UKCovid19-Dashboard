{
 "cells": [
  {
   "cell_type": "markdown",
   "metadata": {},
   "source": [
    "[DIY Covid-19 Dashboard Kit](https://github.com/fsmeraldi/diy-covid19dash) (C) Fabrizio Smeraldi, 2020 ([f.smeraldi@qmul.ac.uk](mailto:f.smeraldi@qmul.ac.uk) - [web](http://www.eecs.qmul.ac.uk/~fabri/)). All rights reserved."
   ]
  },
  {
   "cell_type": "markdown",
   "metadata": {},
   "source": [
    "**Author and Copyright Notice** *Based on UK Government [data](https://coronavirus.data.gov.uk/) published by [Public Health England](https://www.gov.uk/government/organisations/public-health-england).*"
   ]
  },
  {
   "cell_type": "markdown",
   "metadata": {},
   "source": [
    "# UK Covid-19 Dashboard"
   ]
  },
  {
   "cell_type": "markdown",
   "metadata": {},
   "source": [
    "This is a template for your DIY Covid Dashboard, to which you can add the code you developed in the previous notebooks. The dashboard will be displayed using [voila](https://voila.readthedocs.io/en/stable/index.html), a Python dashboarding tool that converts notebooks to standalone dashboards. Contrary to the other libraries we have seen, the ```voila``` package must be installed using *pip* or *conda* but it does not need to be imported - it rather acts at the level of the notebook server. Package ```voila``` is already installed on the EECS JupyterHub as well as in the binder - to install it locally, follow the [instructions](https://voila.readthedocs.io/en/stable/install.html) online.\n",
    "\n",
    "Broadly speaking, Voila acts by **running all the cells in your notebook** when the dashboard is first loaded; it then hides all code cells and displays all markdown cells and any outputs, including widgets. However, the code is still there in the background and handles any interaction with the widgets. To view this dashboard template rendered in Voila click [here](https://mybinder.org/v2/gh/fsmeraldi/diy-covid19dash/main?urlpath=%2Fvoila%2Frender%2FDashboard.ipynb)."
   ]
  },
  {
   "cell_type": "code",
   "execution_count": 1,
   "metadata": {},
   "outputs": [],
   "source": [
    "# import library\n",
    "from IPython.display import clear_output\n",
    "import ipywidgets as wdg\n",
    "import pandas as pd\n",
    "import numpy as np\n",
    "import matplotlib.pyplot as plt\n",
    "import json\n",
    "from uk_covid19 import Cov19API"
   ]
  },
  {
   "cell_type": "code",
   "execution_count": 2,
   "metadata": {},
   "outputs": [],
   "source": [
    "%matplotlib inline\n",
    "# make figures larger\n",
    "plt.rcParams['figure.dpi'] = 100"
   ]
  },
  {
   "cell_type": "code",
   "execution_count": 8,
   "metadata": {},
   "outputs": [],
   "source": [
    "# First step: Load initial data from disk\n",
    "# Reading JSON file from a local file\n",
    "with open('raw_data.json','r') as f:\n",
    "    data = json.loads(f.read())"
   ]
  },
  {
   "cell_type": "code",
   "execution_count": 4,
   "metadata": {},
   "outputs": [],
   "source": [
    "# Second step: Wrangle the data from JSON file into a DataFrame\n",
    "def wrangle_data(data):\n",
    "    \"\"\" Parameters: rawdata - data from json file or API call. Returns a dataframe.\"\"\"\n",
    "    # Convert JSON file into a Pandas DataFrame\n",
    "    # Flatten nested list and dict from JSON object\n",
    "    df = pd.json_normalize(data, record_path =['data'])\n",
    "    # Reverse the row and reset index \n",
    "    df = df.loc[::-1].reset_index(drop=True)\n",
    "    # Fill in NAN value with 0.0\n",
    "    df.fillna(0.0, inplace=True)\n",
    "    \n",
    "    return df\n",
    "\n",
    "# Wrap wrangling code into a function allows to call it again after refreshing the data through \n",
    "# the API. \n",
    "df = wrangle_data(data) "
   ]
  },
  {
   "cell_type": "code",
   "execution_count": 5,
   "metadata": {},
   "outputs": [],
   "source": [
    "# Third step: Download the latest data by accessing the API.\n",
    "def access_api():\n",
    "    \"\"\" Access the PHE API. Return raw data in the same format as data loaded from the \"canned\" JSON file. \"\"\"\n",
    "    england_only = [\n",
    "        'areaType=nation',\n",
    "        'areaName=England'\n",
    "    ]\n",
    "\n",
    "    cases_death_and_vaccin = {\n",
    "        \"date\": \"date\",\n",
    "        \"totalCases\": \"cumCasesByPublishDate\",\n",
    "        \"totalDeaths\": \"cumDeaths28DaysByDeathDate\",\n",
    "        \"totalAdmissions\": \"cumAdmissions\"\n",
    "\n",
    "    }\n",
    "\n",
    "    api = Cov19API(\n",
    "        filters=england_only,\n",
    "        structure=cases_death_and_vaccin,\n",
    "    )\n",
    "\n",
    "    data = api.get_json()\n",
    "    \n",
    "    return data # return data read from the API"
   ]
  },
  {
   "cell_type": "code",
   "execution_count": 6,
   "metadata": {},
   "outputs": [
    {
     "data": {
      "application/vnd.jupyter.widget-view+json": {
       "model_id": "881d0a2d3ddf4f37836c399156e70753",
       "version_major": 2,
       "version_minor": 0
      },
      "text/plain": [
       "Button(description='REFRESH', icon='rotate-right', style=ButtonStyle(), tooltip='Keep calm and carry on')"
      ]
     },
     "metadata": {},
     "output_type": "display_data"
    }
   ],
   "source": [
    "# Forth Step: Set a button to refresh data and redraw the graph\n",
    "def api_button_callback(button):\n",
    "    \"\"\" Button callback - it must take the button as its parameter (unused in this case).\n",
    "    Accesses API, wrangles data, updates global variable df used for plotting. \"\"\"\n",
    "    # Get fresh data from the API. \n",
    "    apidata = access_api()\n",
    "    \n",
    "    # Wrangle the data and overwrite the dataframe for plotting\n",
    "    global df\n",
    "    df = wrangle_data(apidata)\n",
    "    \n",
    "    # Redraw the graph with lastest data access from API\n",
    "    refresh_graph()\n",
    "    \n",
    "    # Change the status of the button\n",
    "    apibutton.icon=\"check\"\n",
    "\n",
    "    \n",
    "apibutton=wdg.Button(\n",
    "    description='REFRESH',\n",
    "    disabled=False,\n",
    "    button_style='', # 'success', 'info', 'warning', 'danger' or ''\n",
    "    tooltip=\"Keep calm and carry on\",\n",
    "    # FontAwesome names without the `fa-` prefix - try \"download\"\n",
    "    icon='rotate-right'\n",
    ")\n",
    "\n",
    "# Register button callback function with the button\n",
    "apibutton.on_click(api_button_callback)\n",
    "\n",
    "display(apibutton)"
   ]
  },
  {
   "cell_type": "code",
   "execution_count": 7,
   "metadata": {},
   "outputs": [
    {
     "data": {
      "application/vnd.jupyter.widget-view+json": {
       "model_id": "8e544855ce244badadb0c391afefed43",
       "version_major": 2,
       "version_minor": 0
      },
      "text/plain": [
       "Dropdown(description='Overview: ', options=('totalCases', 'totalDeaths', 'totalAdmissions'), value='totalCases…"
      ]
     },
     "metadata": {},
     "output_type": "display_data"
    },
    {
     "data": {
      "application/vnd.jupyter.widget-view+json": {
       "model_id": "0d4f069e79814bbaa0026313ade50536",
       "version_major": 2,
       "version_minor": 0
      },
      "text/plain": [
       "Output()"
      ]
     },
     "metadata": {},
     "output_type": "display_data"
    }
   ],
   "source": [
    "# Fifth Step: Display the interactive graph\n",
    "# Draw a bar graph with xaxis is date and yaxis is col.options\n",
    "def graph(graphcolumns):\n",
    "    plt.bar(df['date'], df[graphcolumns])\n",
    "    plt.xticks(np.arange(50, 1031, 60), rotation=90) # set xaxis tick\n",
    "    # plt.xlim([1010, 1030]) # test for the refresh button\n",
    "    plt.show()\n",
    "    \n",
    "    \n",
    "cols = wdg.Dropdown(\n",
    "    options=['totalCases', 'totalDeaths', 'totalAdmissions'], # options available\n",
    "    value='totalCases', # initial value\n",
    "    description='Overview: ',\n",
    "    disabled=False\n",
    ")\n",
    "\n",
    "def refresh_graph():\n",
    "    \"\"\" Change the value of the widget in order to force a redraw of the graph.\"\"\"\n",
    "    current=cols.value\n",
    "    if current==cols.options[0]:\n",
    "        other=cols.options[1]\n",
    "    elif current==cols.options[1]:\n",
    "        other=cols.options[2]\n",
    "    else:\n",
    "        other=cols.options[0]\n",
    "    cols.value=other # forces the redraw\n",
    "    cols.value=current # now change it back\n",
    "    \n",
    "# keep calling graph(graphcolumns=value_of_cols); capture output in widget output    \n",
    "output = wdg.interactive_output(graph, {'graphcolumns': cols})\n",
    "\n",
    "display(cols, output)"
   ]
  },
  {
   "cell_type": "markdown",
   "metadata": {},
   "source": [
    "## Deploying the dashboard\n",
    "\n",
    "Once your code is ready and you are satisfied with the appearance of the graphs, replace all the text boxes above with the explanations you would like a dashboard user to see. The next step is deploying the dashboard online - there are several [options](https://voila.readthedocs.io/en/stable/deploy.html) for this, we suggest deploying as a [Binder](https://mybinder.org/). This is basically the same technique that has been used to package this tutorial and to deploy this template dashboard. The instructions may seem a bit involved, but the actual steps are surprisingly easy - we will be going through them together during a live session. You will need an account on [GitHub](https://github.com/) for this - if you don't have one already, now it's the time to create it. "
   ]
  }
 ],
 "metadata": {
  "kernelspec": {
   "display_name": "Python 3 (ipykernel)",
   "language": "python",
   "name": "python3"
  },
  "language_info": {
   "codemirror_mode": {
    "name": "ipython",
    "version": 3
   },
   "file_extension": ".py",
   "mimetype": "text/x-python",
   "name": "python",
   "nbconvert_exporter": "python",
   "pygments_lexer": "ipython3",
   "version": "3.10.8"
  }
 },
 "nbformat": 4,
 "nbformat_minor": 4
}
