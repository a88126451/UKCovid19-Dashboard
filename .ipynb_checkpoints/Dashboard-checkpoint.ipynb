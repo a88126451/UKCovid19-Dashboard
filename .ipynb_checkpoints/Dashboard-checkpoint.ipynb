{
 "cells": [
  {
   "cell_type": "markdown",
   "metadata": {},
   "source": [
    "[DIY Covid-19 Dashboard Kit](https://github.com/fsmeraldi/diy-covid19dash) (C) Fabrizio Smeraldi, 2020 ([f.smeraldi@qmul.ac.uk](mailto:f.smeraldi@qmul.ac.uk) - [web](http://www.eecs.qmul.ac.uk/~fabri/)). All rights reserved."
   ]
  },
  {
   "cell_type": "markdown",
   "metadata": {},
   "source": [
    "**Author and Copyright Notice** *Based on UK Government [data](https://coronavirus.data.gov.uk/) published by [Public Health England](https://www.gov.uk/government/organisations/public-health-england).*"
   ]
  },
  {
   "cell_type": "markdown",
   "metadata": {},
   "source": [
    "# UK Covid-19 Dashboard"
   ]
  },
  {
   "cell_type": "markdown",
   "metadata": {},
   "source": [
    "## Development Process"
   ]
  },
  {
   "cell_type": "markdown",
   "metadata": {},
   "source": [
    "This dashboard downloads and displays Covid data from [Public Health England](https://coronavirus.data.gov.uk).\n",
    "\n",
    "1. Install python SDK for PHE\n",
    "2. Access data through web-based APIs\n",
    "3. Retrieve JSON format file and store in local disk\n",
    "4. Use Pandas library to build dataframe and use Matplotlib library to plot diagram\n",
    "5. Use iPython Widgets to building a basic Graphical User Interface (GUI)\n",
    "6. Use voila to display dashboard"
   ]
  },
  {
   "cell_type": "markdown",
   "metadata": {},
   "source": [
    "## Data Choice"
   ]
  },
  {
   "cell_type": "markdown",
   "metadata": {},
   "source": [
    "The diagram represents Date, TotalCases, TotalDeaths, TotalAdmissions in England from 2020-01-31 to 2022-12-01"
   ]
  },
  {
   "cell_type": "markdown",
   "metadata": {},
   "source": [
    "## Dashboard Operation"
   ]
  },
  {
   "cell_type": "markdown",
   "metadata": {},
   "source": [
    "- It allows user to select different display of the graph through a selection area.\n",
    "- When a user cliks the refresh data button, it would then access the API from PHE to retrieve the latest data and redraw the grapgh."
   ]
  },
  {
   "cell_type": "code",
   "execution_count": 1,
   "metadata": {},
   "outputs": [],
   "source": [
    "# import library\n",
    "from IPython.display import clear_output\n",
    "import ipywidgets as wdg\n",
    "import pandas as pd\n",
    "import numpy as np\n",
    "import matplotlib.pyplot as plt\n",
    "import json\n",
    "from uk_covid19 import Cov19API"
   ]
  },
  {
   "cell_type": "code",
   "execution_count": 2,
   "metadata": {},
   "outputs": [],
   "source": [
    "# suppress warning for pyplot\n",
    "import warnings\n",
    "warnings.filterwarnings(\"ignore\")"
   ]
  },
  {
   "cell_type": "code",
   "execution_count": 3,
   "metadata": {},
   "outputs": [],
   "source": [
    "%matplotlib inline\n",
    "# make figures larger\n",
    "plt.rcParams['figure.dpi'] = 100"
   ]
  },
  {
   "cell_type": "code",
   "execution_count": 4,
   "metadata": {},
   "outputs": [],
   "source": [
    "# First step: Load initial data from disk\n",
    "# Reading JSON file from a local file\n",
    "with open('raw_data.json','r') as f:\n",
    "    data = json.loads(f.read())"
   ]
  },
  {
   "cell_type": "code",
   "execution_count": 5,
   "metadata": {},
   "outputs": [],
   "source": [
    "# Second step: Wrangle the data from JSON file into a DataFrame\n",
    "def wrangle_data(data):\n",
    "    \"\"\" Parameters: rawdata - data from json file or API call. Returns a dataframe.\"\"\"\n",
    "    # Convert JSON file into a Pandas DataFrame\n",
    "    # Flatten nested list and dict from JSON object\n",
    "    df = pd.json_normalize(data, record_path =['data'])\n",
    "    # Reverse the row and reset index \n",
    "    df = df.loc[::-1].reset_index(drop=True)\n",
    "    # Fill in NAN value with 0.0\n",
    "    df.fillna(0.0, inplace=True)\n",
    "    \n",
    "    return df\n",
    "\n",
    "# Wrap wrangling code into a function allows to call it again after refreshing the data through \n",
    "# the API. \n",
    "df = wrangle_data(data) "
   ]
  },
  {
   "cell_type": "code",
   "execution_count": 6,
   "metadata": {},
   "outputs": [],
   "source": [
    "# Third step: Download the latest data by accessing the API.\n",
    "def access_api():\n",
    "    \"\"\" Access the PHE API. Return raw data in the same format as data loaded from the \"canned\" JSON file. \"\"\"\n",
    "    england_only = [\n",
    "        'areaType=nation',\n",
    "        'areaName=England'\n",
    "    ]\n",
    "\n",
    "    cases_death_and_vaccin = {\n",
    "        \"date\": \"date\",\n",
    "        \"totalCases\": \"cumCasesByPublishDate\",\n",
    "        \"totalDeaths\": \"cumDeaths28DaysByDeathDate\",\n",
    "        \"totalAdmissions\": \"cumAdmissions\"\n",
    "\n",
    "    }\n",
    "\n",
    "    api = Cov19API(\n",
    "        filters=england_only,\n",
    "        structure=cases_death_and_vaccin,\n",
    "    )\n",
    "\n",
    "    data = api.get_json()\n",
    "    \n",
    "    return data # return data read from the API"
   ]
  },
  {
   "cell_type": "code",
   "execution_count": 7,
   "metadata": {},
   "outputs": [
    {
     "data": {
      "application/vnd.jupyter.widget-view+json": {
       "model_id": "77d4c5a1f1fe4d1c80f6da564a4762c7",
       "version_major": 2,
       "version_minor": 0
      },
      "text/plain": [
       "Button(description='REFRESH', icon='rotate-right', style=ButtonStyle(), tooltip='Keep calm and carry on')"
      ]
     },
     "metadata": {},
     "output_type": "display_data"
    }
   ],
   "source": [
    "# Forth Step: Set a button to refresh data and redraw the graph\n",
    "def api_button_callback(button):\n",
    "    \"\"\" Button callback - it must take the button as its parameter (unused in this case).\n",
    "    Accesses API, wrangles data, updates global variable df used for plotting. \"\"\"\n",
    "    # Get fresh data from the API. \n",
    "    apidata = access_api()\n",
    "    \n",
    "    # Wrangle the data and overwrite the dataframe for plotting\n",
    "    global df\n",
    "    df = wrangle_data(apidata)\n",
    "    \n",
    "    # Redraw the graph with lastest data access from API\n",
    "    refresh_graph()\n",
    "    \n",
    "    # Change the status of the button\n",
    "    apibutton.icon=\"check\"\n",
    "\n",
    "    \n",
    "apibutton=wdg.Button(\n",
    "    description='REFRESH',\n",
    "    disabled=False,\n",
    "    button_style='', # 'success', 'info', 'warning', 'danger' or ''\n",
    "    tooltip=\"Keep calm and carry on\",\n",
    "    # FontAwesome names without the `fa-` prefix - try \"download\"\n",
    "    icon='rotate-right'\n",
    ")\n",
    "\n",
    "# Register button callback function with the button\n",
    "apibutton.on_click(api_button_callback)\n",
    "\n",
    "display(apibutton)"
   ]
  },
  {
   "cell_type": "code",
   "execution_count": 15,
   "metadata": {},
   "outputs": [
    {
     "data": {
      "application/vnd.jupyter.widget-view+json": {
       "model_id": "29a0f25d184e40d282dde1d7ab056a06",
       "version_major": 2,
       "version_minor": 0
      },
      "text/plain": [
       "Select(description='Overview: ', options=('totalCases', 'totalDeaths', 'totalAdmissions'), value='totalCases')"
      ]
     },
     "metadata": {},
     "output_type": "display_data"
    },
    {
     "data": {
      "application/vnd.jupyter.widget-view+json": {
       "model_id": "c5591412afef4ff2821604d05caf1732",
       "version_major": 2,
       "version_minor": 0
      },
      "text/plain": [
       "Output()"
      ]
     },
     "metadata": {},
     "output_type": "display_data"
    }
   ],
   "source": [
    "# Fifth Step: Display the interactive graph\n",
    "# Draw a bar graph with xaxis is date and yaxis is col.options\n",
    "def graph(graphcolumns):\n",
    "    plt.bar(df['date'], df[graphcolumns], color=\"gray\")\n",
    "    plt.xticks(np.arange(0, 1031, 60), rotation=90) # set xaxis tick\n",
    "    # plt.xlim([1010, 1030]) # test for the refresh button\n",
    "    plt.xlabel('Date') # set x label\n",
    "    \n",
    "    # set yaxis number format\n",
    "    current_values = plt.gca().get_yticks()\n",
    "    plt.gca().set_yticklabels(['{:,.0f}'.format(x) for x in current_values])\n",
    "    \n",
    "    plt.grid()\n",
    "    plt.show()\n",
    "    \n",
    "    \n",
    "cols = wdg.Select(\n",
    "    options=['totalCases', 'totalDeaths', 'totalAdmissions'], # options available\n",
    "    value='totalCases', # initial value\n",
    "    description='Overview: ',\n",
    "    disabled=False\n",
    ")\n",
    "\n",
    "def refresh_graph():\n",
    "    \"\"\" Change the value of the widget in order to force a redraw of the graph.\"\"\"\n",
    "    current=cols.value\n",
    "    if current==cols.options[0]:\n",
    "        other=cols.options[1]\n",
    "    elif current==cols.options[1]:\n",
    "        other=cols.options[2]\n",
    "    else:\n",
    "        other=cols.options[0]\n",
    "    cols.value=other # forces the redraw\n",
    "    cols.value=current # now change it back\n",
    "    \n",
    "# keep calling graph(graphcolumns=value_of_cols); capture output in widget output    \n",
    "output = wdg.interactive_output(graph, {'graphcolumns': cols})\n",
    "\n",
    "display(cols, output)"
   ]
  },
  {
   "cell_type": "markdown",
   "metadata": {},
   "source": [
    "## Deploying the dashboard\n",
    "\n",
    "This Dashboard uses Binder to deploy.[![Binder](https://mybinder.org/badge_logo.svg)](https://mybinder.org/v2/gh/a88126451/UKCovid19-Dashboard/HEAD?urlpath=voila%2Frender%2FDashboard.ipynb)"
   ]
  }
 ],
 "metadata": {
  "kernelspec": {
   "display_name": "Python 3 (ipykernel)",
   "language": "python",
   "name": "python3"
  },
  "language_info": {
   "codemirror_mode": {
    "name": "ipython",
    "version": 3
   },
   "file_extension": ".py",
   "mimetype": "text/x-python",
   "name": "python",
   "nbconvert_exporter": "python",
   "pygments_lexer": "ipython3",
   "version": "3.10.8"
  }
 },
 "nbformat": 4,
 "nbformat_minor": 4
}
